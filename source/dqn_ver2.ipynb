{
 "cells": [
  {
   "cell_type": "code",
   "execution_count": 2,
   "id": "e1b0b14e",
   "metadata": {
    "ExecuteTime": {
     "end_time": "2024-04-08T01:04:35.901406Z",
     "start_time": "2024-04-08T01:04:35.898745Z"
    }
   },
   "outputs": [],
   "source": [
    "from IPython.display import Image"
   ]
  },
  {
   "cell_type": "markdown",
   "id": "b51927da",
   "metadata": {},
   "source": [
    "### DQN 구현"
   ]
  },
  {
   "cell_type": "markdown",
   "id": "08d54c30",
   "metadata": {},
   "source": [
    "- **카트폴 문제(CartPole)**\n",
    "- 액션은 항상 2가지(왼쪽, 오른쪽으로 밀기)\n",
    "- 카트의 상태 s는 길이 4인 벡터 / s = (카트의 위치, 카트의 속도, 막대의 각도, 막대의 가속도)"
   ]
  },
  {
   "cell_type": "code",
   "execution_count": 3,
   "id": "64ff2111",
   "metadata": {
    "ExecuteTime": {
     "end_time": "2024-04-08T01:04:38.936008Z",
     "start_time": "2024-04-08T01:04:38.252179Z"
    }
   },
   "outputs": [],
   "source": [
    "# 라이브러리 import \n",
    "import gym # OpenAI GYM 라이브러리\n",
    "import collections # deque 활용\n",
    "import random\n",
    "\n",
    "import torch\n",
    "import torch.nn as nn\n",
    "import torch.nn.functional as F\n",
    "import torch.optim as optim"
   ]
  },
  {
   "cell_type": "code",
   "execution_count": 4,
   "id": "24491174",
   "metadata": {
    "ExecuteTime": {
     "end_time": "2024-04-08T01:04:39.855180Z",
     "start_time": "2024-04-08T01:04:39.852416Z"
    }
   },
   "outputs": [],
   "source": [
    "# 하이퍼 파라미터 정의\n",
    "learning_rate = 0.0005\n",
    "gamma = 0.98\n",
    "buffer_limit = 50000\n",
    "batch_size = 32"
   ]
  },
  {
   "cell_type": "code",
   "execution_count": 5,
   "id": "777a5f84",
   "metadata": {
    "ExecuteTime": {
     "end_time": "2024-04-08T01:04:41.940090Z",
     "start_time": "2024-04-08T01:04:41.934434Z"
    }
   },
   "outputs": [],
   "source": [
    "# 리플레이 버퍼 클래스\n",
    "\n",
    "class ReplayBuffer():\n",
    "    def __init__(self):\n",
    "        self.buffer = collections.deque(maxlen=buffer_limit)\n",
    "        \n",
    "    def put(self, transition):\n",
    "        self.buffer.append(transition)\n",
    "        \n",
    "    def sample(self, n):\n",
    "        mini_batch = random.sample(self.buffer, n)\n",
    "        s_lst, a_lst, r_lst, s_prime_lst, done_mask_lst = [], [], [], [], [] \n",
    "        # done_mask_lst : 종료 상태의 밸류를 마스킹해주기 위해 만든 변수\n",
    "        \n",
    "        for transition in mini_batch:\n",
    "            s, a, r, s_prime, done_mask = transition\n",
    "            s_lst.append(s)\n",
    "            a_lst.append([a])\n",
    "            r_lst.append([r])\n",
    "            s_prime_lst.append(s_prime)\n",
    "            done_mask_lst.append([done_mask])\n",
    "            \n",
    "        return torch.tensor(s_lst, dtype=torch.float), torch.tensor(a_lst), torch.tensor(r_lst), \\\n",
    "                torch.tensor(s_prime_lst, dtype=torch.float), torch.tensor(done_mask_lst)\n",
    "    \n",
    "    def size(self):\n",
    "        return len(self.buffer)"
   ]
  },
  {
   "cell_type": "code",
   "execution_count": 6,
   "id": "542af5a9",
   "metadata": {
    "ExecuteTime": {
     "end_time": "2024-04-08T01:04:43.537877Z",
     "start_time": "2024-04-08T01:04:43.532955Z"
    }
   },
   "outputs": [],
   "source": [
    "# Q밸류 네트워크 클래스\n",
    "\n",
    "class Qnet(nn.Module): \n",
    "    '''\n",
    "    nn.Module 클래스는 파이토치 라이브러리 안에 포함된 클래스로, \n",
    "    뉴럴넷을 만들 때 뼈대가 되는 클래스이며 뉴럴넷과 관련한 다양한 연산을 \n",
    "    제공해주기 때문에 파이토치에서 뉴럴넷을 선언할 때 거의 디폴트로 상속받는 클래스\n",
    "    '''\n",
    "    def __init__(self):\n",
    "        super(Qnet, self).__init__() \n",
    "        self.fc1 = nn.Linear(4, 128)\n",
    "        self.fc2 = nn.Linear(128, 128)\n",
    "        self.fc3 = nn.Linear(128, 2)\n",
    "        \n",
    "    def forward(self, x):\n",
    "        x = F.relu(self.fc1(x))\n",
    "        x = F.relu(self.fc2(x))\n",
    "        x = self.fc3(x)\n",
    "        return x\n",
    "    \n",
    "    def sample_action(self, obs, epsilon):\n",
    "        out = self.forward(obs)\n",
    "        coin = random.random()\n",
    "        if coin < epsilon:\n",
    "            return random.randint(0, 1)\n",
    "        else:\n",
    "            return out.argmax().item()"
   ]
  },
  {
   "cell_type": "code",
   "execution_count": 7,
   "id": "0bb4e877",
   "metadata": {
    "ExecuteTime": {
     "end_time": "2024-04-08T01:04:44.137137Z",
     "start_time": "2024-04-08T01:04:44.134056Z"
    }
   },
   "outputs": [],
   "source": [
    "# 학습 함수\n",
    "\n",
    "def train(q, q_target, memory, optimizer):\n",
    "    for i in range(10):\n",
    "        s,a,r,s_prime,done_mask = memory.sample(batch_size)\n",
    "        \n",
    "        q_out = q(s)\n",
    "        q_a = q_out.gather(1,a)\n",
    "        max_q_prime = q_target(s_prime).max(1)[0].unsqueeze(1)\n",
    "        target = r + gamma*max_q_prime*done_mask\n",
    "        loss = F.smooth_l1_loss(q_a, target)\n",
    "        \n",
    "        optimizer.zero_grad()\n",
    "        loss.backward() # loss에 대한 그라디언트 계산이 일어남\n",
    "        optimizer.step()"
   ]
  },
  {
   "cell_type": "code",
   "execution_count": 8,
   "id": "3791f3b6",
   "metadata": {
    "ExecuteTime": {
     "end_time": "2024-04-08T01:04:44.671364Z",
     "start_time": "2024-04-08T01:04:44.666286Z"
    }
   },
   "outputs": [],
   "source": [
    "# 메인 함수\n",
    "\n",
    "def main():\n",
    "    env = gym.make('CartPole-v1')\n",
    "    q = Qnet()\n",
    "    q_target = Qnet()\n",
    "    q_target.load_state_dict(q.state_dict())\n",
    "    memory = ReplayBuffer()\n",
    "    \n",
    "    print_interval = 20\n",
    "    score = 0.0\n",
    "    optimizer = optim.Adam(q.parameters(), lr = learning_rate)\n",
    "    \n",
    "    for n_epi in range(10000):\n",
    "        epsilon = max(0.01, 0.08 - 0.01*(n_epi/200))\n",
    "        # Linear annealing from 8% to 1%\n",
    "        s = env.reset()\n",
    "        done = False\n",
    "\n",
    "        while not done:\n",
    "            a = q.sample_action(torch.from_numpy(s).float(), epsilon)\n",
    "            s_prime, r, done, info = env.step(a)\n",
    "            done_mask = 0.0 if done else 1.0\n",
    "            memory.put((s,a,r/100.0,s_prime,done_mask))\n",
    "            s = s_prime\n",
    "            score += r\n",
    "            if done:\n",
    "                break\n",
    "\n",
    "        if memory.size()>2000:\n",
    "            train(q, q_target, memory, optimizer)\n",
    "\n",
    "        if n_epi%print_interval==0 and n_epi!=0:\n",
    "            q_target.load_state_dict(q.state_dict())\n",
    "            print(\"n_episode : {}, score : {:.1f}, n_buffer : {}, eps : {:.1f}%\".format(n_epi, score/print_interval, memory.size(), epsilon*100))\n",
    "            score = 0.0\n",
    "        env.close()"
   ]
  },
  {
   "cell_type": "code",
   "execution_count": 9,
   "id": "0463d63e",
   "metadata": {
    "ExecuteTime": {
     "end_time": "2024-04-08T01:04:46.028701Z",
     "start_time": "2024-04-08T01:04:45.510939Z"
    }
   },
   "outputs": [
    {
     "ename": "TypeError",
     "evalue": "expected np.ndarray (got tuple)",
     "output_type": "error",
     "traceback": [
      "\u001B[0;31m---------------------------------------------------------------------------\u001B[0m",
      "\u001B[0;31mTypeError\u001B[0m                                 Traceback (most recent call last)",
      "Cell \u001B[0;32mIn[9], line 1\u001B[0m\n\u001B[0;32m----> 1\u001B[0m \u001B[43mmain\u001B[49m\u001B[43m(\u001B[49m\u001B[43m)\u001B[49m\n",
      "Cell \u001B[0;32mIn[8], line 21\u001B[0m, in \u001B[0;36mmain\u001B[0;34m()\u001B[0m\n\u001B[1;32m     18\u001B[0m done \u001B[38;5;241m=\u001B[39m \u001B[38;5;28;01mFalse\u001B[39;00m\n\u001B[1;32m     20\u001B[0m \u001B[38;5;28;01mwhile\u001B[39;00m \u001B[38;5;129;01mnot\u001B[39;00m done:\n\u001B[0;32m---> 21\u001B[0m     a \u001B[38;5;241m=\u001B[39m q\u001B[38;5;241m.\u001B[39msample_action(\u001B[43mtorch\u001B[49m\u001B[38;5;241;43m.\u001B[39;49m\u001B[43mfrom_numpy\u001B[49m\u001B[43m(\u001B[49m\u001B[43ms\u001B[49m\u001B[43m)\u001B[49m\u001B[38;5;241m.\u001B[39mfloat(), epsilon)\n\u001B[1;32m     22\u001B[0m     s_prime, r, done, info \u001B[38;5;241m=\u001B[39m env\u001B[38;5;241m.\u001B[39mstep(a)\n\u001B[1;32m     23\u001B[0m     done_mask \u001B[38;5;241m=\u001B[39m \u001B[38;5;241m0.0\u001B[39m \u001B[38;5;28;01mif\u001B[39;00m done \u001B[38;5;28;01melse\u001B[39;00m \u001B[38;5;241m1.0\u001B[39m\n",
      "\u001B[0;31mTypeError\u001B[0m: expected np.ndarray (got tuple)"
     ]
    }
   ],
   "source": [
    "main()"
   ]
  },
  {
   "cell_type": "code",
   "execution_count": null,
   "id": "9ad60bd6",
   "metadata": {},
   "outputs": [],
   "source": [
    "\n"
   ]
  }
 ],
 "metadata": {
  "kernelspec": {
   "display_name": "Python 3",
   "language": "python",
   "name": "python3"
  },
  "language_info": {
   "codemirror_mode": {
    "name": "ipython",
    "version": 3
   },
   "file_extension": ".py",
   "mimetype": "text/x-python",
   "name": "python",
   "nbconvert_exporter": "python",
   "pygments_lexer": "ipython3",
   "version": "3.8.8"
  }
 },
 "nbformat": 4,
 "nbformat_minor": 5
}
